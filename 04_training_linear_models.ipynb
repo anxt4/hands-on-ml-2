{
 "cells": [
  {
   "cell_type": "markdown",
   "metadata": {},
   "source": [
    "# Chapter 4 – Training Linear Models"
   ]
  },
  {
   "cell_type": "code",
   "execution_count": 1,
   "metadata": {},
   "outputs": [],
   "source": [
    "# Scikit-Learn ≥0.20 is required\n",
    "import sklearn\n",
    "assert sklearn.__version__ >= \"0.20\"\n",
    "\n",
    "# Common imports\n",
    "import numpy as np\n",
    "import os\n",
    "\n",
    "# to make this notebook's output stable across runs\n",
    "np.random.seed(42)\n",
    "\n",
    "# To plot pretty figures\n",
    "%matplotlib inline\n",
    "import matplotlib\n",
    "import matplotlib as mpl\n",
    "import matplotlib.pyplot as plt\n",
    "mpl.rc('axes', labelsize=14)\n",
    "mpl.rc('xtick', labelsize=12)\n",
    "mpl.rc('ytick', labelsize=12)\n",
    "\n",
    "\n",
    "matplotlib.rc('font', family='AppleGothic')  # MacOS\n",
    "plt.rcParams['axes.unicode_minus'] = False\n"
   ]
  },
  {
   "cell_type": "markdown",
   "metadata": {},
   "source": [
    " "
   ]
  },
  {
   "cell_type": "markdown",
   "metadata": {},
   "source": [
    "### 4.4.1 정규 방정식<sub>normal equation</sub>\n",
    "\n",
    "(단, *invertible* 할때 = 각 subspace 들이 독립일 때)"
   ]
  },
  {
   "cell_type": "markdown",
   "metadata": {},
   "source": [
    "#### 테스트 데이터 생성"
   ]
  },
  {
   "cell_type": "code",
   "execution_count": 2,
   "metadata": {},
   "outputs": [],
   "source": [
    "X = 2* np.random.rand(100, 1) # 100 row, 1 col\n",
    "y = 4 + 3*X  + np.random.randn(100,1) # 100 row, 1col"
   ]
  },
  {
   "cell_type": "code",
   "execution_count": 3,
   "metadata": {},
   "outputs": [
    {
     "name": "stdout",
     "output_type": "stream",
     "text": [
      "X : [[0.74908024]\n",
      " [1.90142861]\n",
      " [1.46398788]\n",
      " [1.19731697]\n",
      " [0.31203728]]\n"
     ]
    }
   ],
   "source": [
    "print('X :' , X[:5] )"
   ]
  },
  {
   "cell_type": "code",
   "execution_count": 4,
   "metadata": {},
   "outputs": [
    {
     "name": "stdout",
     "output_type": "stream",
     "text": [
      "y : [[6.33428778]\n",
      " [9.40527849]\n",
      " [8.48372443]\n",
      " [5.60438199]\n",
      " [4.71643995]]\n"
     ]
    }
   ],
   "source": [
    "print('y :' , y[:5] )"
   ]
  },
  {
   "cell_type": "code",
   "execution_count": 5,
   "metadata": {},
   "outputs": [
    {
     "data": {
      "image/png": "[encoded data removed]",
      "text/plain": [
       "<Figure size 432x288 with 1 Axes>"
      ]
     },
     "metadata": {
      "needs_background": "light"
     },
     "output_type": "display_data"
    }
   ],
   "source": [
    "plt.plot(X,y, \"b.\")\n",
    "plt.xlabel(\"$x_1$\", fontsize = 18)\n",
    "plt.ylabel(\"$y$\", rotation = 0, fontsize=18)\n",
    "plt.axis([0,2, 0, 15])\n",
    "plt.show()"
   ]
  },
  {
   "cell_type": "code",
   "execution_count": 6,
   "metadata": {},
   "outputs": [],
   "source": [
    "X_b = np.c_[np.ones((100,1)), X] # X0 = 1 을 추가 해준다\n",
    "theta_best = np.dot(np.dot(np.linalg.inv(np.dot(X_b.T, X_b)), X_b.T), y)"
   ]
  },
  {
   "cell_type": "code",
   "execution_count": 7,
   "metadata": {},
   "outputs": [
    {
     "data": {
      "text/plain": [
       "array([[1.        , 0.74908024],\n",
       "       [1.        , 1.90142861],\n",
       "       [1.        , 1.46398788],\n",
       "       [1.        , 1.19731697],\n",
       "       [1.        , 0.31203728]])"
      ]
     },
     "execution_count": 7,
     "metadata": {},
     "output_type": "execute_result"
    }
   ],
   "source": [
    "X_b[:5]"
   ]
  },
  {
   "cell_type": "code",
   "execution_count": 8,
   "metadata": {},
   "outputs": [
    {
     "data": {
      "text/plain": [
       "array([[4.21509616],\n",
       "       [2.77011339]])"
      ]
     },
     "execution_count": 8,
     "metadata": {},
     "output_type": "execute_result"
    }
   ],
   "source": [
    "theta_best"
   ]
  },
  {
   "cell_type": "markdown",
   "metadata": {},
   "source": [
    "$\\theta_0 = 4.215$ , $\\theta_1 = 2.770$  \n",
    "원래의 방적식은 $y = 4 + 3x_1$ \n",
    ">잡음이 섞인 결과가 도출 됨"
   ]
  },
  {
   "cell_type": "code",
   "execution_count": 9,
   "metadata": {},
   "outputs": [
    {
     "data": {
      "text/plain": [
       "array([[4.21509616],\n",
       "       [9.75532293]])"
      ]
     },
     "execution_count": 9,
     "metadata": {},
     "output_type": "execute_result"
    }
   ],
   "source": [
    "X_new = np.array([[0], [2]])\n",
    "X_new_b = np.c_[np.ones((2,1)), X_new]\n",
    "y_predict = np.dot(X_new_b, theta_best)\n",
    "y_predict"
   ]
  },
  {
   "cell_type": "code",
   "execution_count": 10,
   "metadata": {},
   "outputs": [
    {
     "data": {
      "image/png": "[encoded data removed]",
      "text/plain": [
       "<Figure size 432x288 with 1 Axes>"
      ]
     },
     "metadata": {
      "needs_background": "light"
     },
     "output_type": "display_data"
    }
   ],
   "source": [
    "plt.plot(X_new, y_predict, \"r-\", label = \"predict\")\n",
    "plt.plot(X, y, \"b.\")\n",
    "plt.axis([0, 2, 0, 15])\n",
    "plt.legend()\n",
    "plt.show()"
   ]
  },
  {
   "cell_type": "markdown",
   "metadata": {},
   "source": [
    "#### 사이킷런"
   ]
  },
  {
   "cell_type": "code",
   "execution_count": 11,
   "metadata": {},
   "outputs": [
    {
     "data": {
      "text/plain": [
       "(array([4.21509616]), array([[2.77011339]]))"
      ]
     },
     "execution_count": 11,
     "metadata": {},
     "output_type": "execute_result"
    }
   ],
   "source": [
    "from sklearn.linear_model import LinearRegression\n",
    "\n",
    "lin_reg= LinearRegression()\n",
    "lin_reg.fit(X,y)\n",
    "lin_reg.intercept_, lin_reg.coef_"
   ]
  },
  {
   "cell_type": "code",
   "execution_count": 12,
   "metadata": {},
   "outputs": [
    {
     "data": {
      "text/plain": [
       "array([[4.21509616],\n",
       "       [9.75532293]])"
      ]
     },
     "execution_count": 12,
     "metadata": {},
     "output_type": "execute_result"
    }
   ],
   "source": [
    "lin_reg.predict(X_new)"
   ]
  },
  {
   "cell_type": "markdown",
   "metadata": {},
   "source": [
    "`LinearRegression`은 `scipy.linalg.lstsq()` 함수 **최소 제곱<sub>least squares</sub>**을 기반으로 함"
   ]
  },
  {
   "cell_type": "code",
   "execution_count": 13,
   "metadata": {},
   "outputs": [
    {
     "data": {
      "text/plain": [
       "array([[4.21509616],\n",
       "       [2.77011339]])"
      ]
     },
     "execution_count": 13,
     "metadata": {},
     "output_type": "execute_result"
    }
   ],
   "source": [
    "theta_best_svd, residuals, rank,s = np.linalg.lstsq(X_b, y, rcond=1e-6)\n",
    "theta_best_svd"
   ]
  },
  {
   "cell_type": "markdown",
   "metadata": {},
   "source": [
    "위 함수는 $\\hat{\\theta} = X^+ y$를 계산한다. 여기서 $X^+$는 X의 **유사역행렬**<sub>pseudoinverse</sub>를 가르킨다.  \n",
    "`np.linalge.pinv()`를 사용해서 유사역행렬을 직접 구할 수 있다."
   ]
  },
  {
   "cell_type": "code",
   "execution_count": 14,
   "metadata": {},
   "outputs": [
    {
     "data": {
      "text/plain": [
       "array([[4.21509616],\n",
       "       [2.77011339]])"
      ]
     },
     "execution_count": 14,
     "metadata": {},
     "output_type": "execute_result"
    }
   ],
   "source": [
    "np.linalg.pinv((X_b)).dot(y)"
   ]
  },
  {
   "cell_type": "markdown",
   "metadata": {},
   "source": [
    "$ X^+ $(유사 역행렬)은 SVD에서 구해지는 값.   \n",
    "정규 방정식<sub>normal equation</sub>에서 $Col A$의 Subspace에서 종속(dependent) 한 관계가 존재 할 때, 값을 구 할 수 없었는데 SVD는 역행렬이 존재 하지 않아도 유사 역행렬은 항상 구할 수 있다."
   ]
  },
  {
   "cell_type": "markdown",
   "metadata": {},
   "source": [
    " "
   ]
  },
  {
   "cell_type": "markdown",
   "metadata": {},
   "source": [
    "### 4.1.2 Computational Complexity\n",
    "정규 방정식<sub>normal equation</sub>에서는 $ (n+1) * (n+1) $ 횟수 만큼의 연산($ X^{T} X $)을 수행한다. ($n$은 Column, 특성 수).   \n",
    "이러한 역행렬을 계산하는 계산복잡도<sub>Computational Complexity</sub> 은 일 반적으로 $ O(n^{2.4})$ ~$ O(n^{3}) $  \n",
    "Sklearn의 `LinearRegression` 클래스가 사용하는 SVD 방식은 $O(n^2)$이다"
   ]
  },
  {
   "cell_type": "markdown",
   "metadata": {},
   "source": [
    " \n",
    " "
   ]
  },
  {
   "cell_type": "markdown",
   "metadata": {},
   "source": [
    "## 4.2 경사 하강법\n",
    "경사 하강법<sub>gradient descent</sub>의 기본 아이디어는 *Cost Function*을 최소화 하기 위해 반복적으로 파라미터를 조정해 가는 것  \n",
    "*parameter* 벡터 $ \\theta $ 에 대해 *Cost Function*의 현재 Gradient를 계산 하여, Gradient가 감소되는 방향으로 전진힌다. Gradient가 0에 도달 하면 최솟값에 도달 한 것  \n",
    "** 무작위 초기화 ** <sub>random initialization</sub>: $\\theta$의 값을 임의의 값으로 시작해서 한 번에 조금씨 Cost Function(ex. MSE)이 감쇠되는 방향으로 진행하여 최소값을 찾는다"
   ]
  },
  {
   "cell_type": "markdown",
   "metadata": {},
   "source": [
    "경사 하강법에서 중요한 하이퍼파라미터는 **학습률**(learning rate, $\\eta$)이다. 학습률이 너무 작으면 수렴하는데까지 시간이 오래걸리고, 학습률이 너무 크면 발산하게 된다. 보통 로그 스케일로 0.001($10^{-3}$), 0.001($10^{-2}$)와 같이 지정한다.\n",
    "\n",
    ">경사 하강법을 사용할 때는 반드시 모든 특성(feature)들이 같은 스케일을 가지도록 해야한다(Standard 또는 MinMax 등). 그렇지 않으면 학습시간이 오래걸리게 된다.   \n",
    "\n",
    "\n",
    "<img src=\"./images/gd.gif\" width=\"500\">"
   ]
  },
  {
   "cell_type": "markdown",
   "metadata": {},
   "source": [
    "이를 모델의 **파라미터 공간**<sub>parameter space</sub>에서 파라미터 조합을 찾는다 라고 한다"
   ]
  },
  {
   "cell_type": "markdown",
   "metadata": {},
   "source": [
    "  "
   ]
  },
  {
   "cell_type": "markdown",
   "metadata": {},
   "source": [
    "### 4.2.1 경사 하강법\n",
    "\n",
    "$$\n",
    "\\frac{\\partial}{\\partial w_j} MSE(\\mathbf{W}) = \\frac{2}{m} \\sum_{i=1}^{m}{\\left( \\mathbf{W}^{T} \\cdot \\mathbf{x}_{i} - y_{i}\\right)}x_{ij}\n",
    "$$\n",
    "\n",
    "위 편도함수를 계한 하는 대신 **그라디언트 벡터** $\\nabla_{\\mathbf{W}} \\text{MSE}(\\mathbf{\\theta}) $를 계산한다. $\\nabla_{\\mathbf{W}} \\text{MSE}(\\mathbf{\\theta}) $는 각 비용 함수의 *Col A*의 특성(subsapce) 마다 편도함수를 모두 담고 있다. \n",
    "\n",
    "$$\n",
    "\\nabla_{\\mathbf{W}} \\text{MSE}(\\mathbf{W}) = \\begin{bmatrix} \\frac { \\partial  }{ \\partial w_{ i } } { MSE }(W) \\\\ \\vdots \\\\ \\frac { \\partial  }{ \\partial w_{ i } } { MSE }(W) \\end{bmatrix} = \\frac{2}{m} \\mathbf{X}^{T} \\cdot \\left( \\mathbf{X} \\cdot \\mathbf{W} - \\mathbf{y} \\right)\n",
    "$$"
   ]
  },
  {
   "cell_type": "markdown",
   "metadata": {},
   "source": [
    "#### 경사 하강법 Step\n",
    "\n",
    "$$\n",
    "\\mathrm{W} \\leftarrow \\mathrm{W} - \\eta \\nabla_{\\mathbf{W}} \\text{MSE}(\\mathbf{W}) \\Longleftrightarrow \n",
    " \\mathrm{W} \\leftarrow \\mathrm{W} - \\eta \\frac{\\partial L}{\\partial \\mathrm{W}} \n",
    "$$"
   ]
  },
  {
   "cell_type": "code",
   "execution_count": 15,
   "metadata": {
    "tags": []
   },
   "outputs": [],
   "source": [
    "eta = 0.1  # learning rate\n",
    "n_iterations = 1000\n",
    "m = 100\n",
    "\n",
    "theta = np.random.randn(2,1)  # random initialization\n",
    "\n",
    "for iteration in range(n_iterations):\n",
    "    gradients = 2/m * X_b.T.dot(X_b.dot(theta) - y)\n",
    "    theta = theta - eta * gradients"
   ]
  },
  {
   "cell_type": "code",
   "execution_count": 16,
   "metadata": {},
   "outputs": [
    {
     "data": {
      "text/plain": [
       "array([[4.21509616],\n",
       "       [2.77011339]])"
      ]
     },
     "execution_count": 16,
     "metadata": {},
     "output_type": "execute_result"
    }
   ],
   "source": [
    "theta"
   ]
  },
  {
   "cell_type": "markdown",
   "metadata": {},
   "source": [
    "#### 여러 학습룰에 따른 경사 하강법"
   ]
  },
  {
   "cell_type": "code",
   "execution_count": 17,
   "metadata": {},
   "outputs": [],
   "source": [
    "theta_path_bgd = []\n",
    "\n",
    "def plot_gradient_descent(theta, eta, theta_path=None):\n",
    "    m = len(X_b)\n",
    "    plt.plot(X, y, \"b.\")\n",
    "    n_iterations = 1000\n",
    "    for iteration in range(n_iterations):\n",
    "        if iteration < 10:\n",
    "            y_predict = X_new_b.dot(theta)\n",
    "            style = \"b-\" if iteration > 0 else \"r--\"\n",
    "            plt.plot(X_new, y_predict, style)\n",
    "        gradients = 2/m * X_b.T.dot(X_b.dot(theta) - y)\n",
    "        theta = theta - eta * gradients\n",
    "        if theta_path is not None:\n",
    "            theta_path.append(theta)\n",
    "    plt.xlabel(\"$x_1$\", fontsize=18)\n",
    "    plt.axis([0, 2, 0, 15])\n",
    "    plt.title(r\"$\\eta = {}$\".format(eta), fontsize=16)"
   ]
  },
  {
   "cell_type": "code",
   "execution_count": 18,
   "metadata": {},
   "outputs": [
    {
     "data": {
      "image/png": "[encoded data removed]",
      "text/plain": [
       "<Figure size 720x288 with 3 Axes>"
      ]
     },
     "metadata": {
      "needs_background": "light"
     },
     "output_type": "display_data"
    }
   ],
   "source": [
    "np.random.seed(42)\n",
    "theta = np.random.randn(2,1)  # random initialization\n",
    "\n",
    "plt.figure(figsize=(10,4))\n",
    "plt.subplot(131); plot_gradient_descent(theta, eta=0.02)\n",
    "plt.ylabel(\"$y$\", rotation=0, fontsize=18)\n",
    "plt.subplot(132); plot_gradient_descent(theta, eta=0.1, theta_path=theta_path_bgd)\n",
    "plt.subplot(133); plot_gradient_descent(theta, eta=0.5)\n",
    "\n",
    "plt.show()"
   ]
  },
  {
   "cell_type": "markdown",
   "metadata": {},
   "source": [
    "- 학습률이 너무 작다(왼쪽): Optimal에 도달하는데 오랜 시간 소요(최적화 무의미)\n",
    "- 학습률이 적당하다: 최적에 수럼\n",
    "- 학습률이 너무 크다(오른쪽): 발산 해버린다."
   ]
  },
  {
   "cell_type": "markdown",
   "metadata": {},
   "source": [
    "#### iteration 횟수 설정 방법\n",
    "반복 횟수를 아주 크게 설정하고, Gradient Vector가 아주 작아지면(기울기가 아주 작아지면), 즉 벡터의 Norm이 어떤 값 $\\varepsilon $(허용오차<sub> tolerance</sub>)보다 작아지면 경사하강법이 거의 최솟값에 도달한 것이므로 알고리즘 중지한다."
   ]
  },
  {
   "cell_type": "markdown",
   "metadata": {},
   "source": []
  },
  {
   "cell_type": "markdown",
   "metadata": {},
   "source": [
    "### 4.2.2 확률적 경사 하강법 <sub> Stochastic Gradient Descent</sub>  \n",
    "배치 경사 하강법의 단점은 각 스텝(iter)에서 모든 훈련 세트를 사용 -> 매우 느리다.   \n",
    "\n",
    "\n",
    "**확률적 경사 하강법**(Stochastic Gradient Descent)은 매 스텝(iter)에서 랜덤하게 하나의 데이터(샘플)을 선택해 Gradient Descent를 계산한다.  \n",
    "따라서, 전체 데이터를 이용해 GD를 계산하는 것보다 속도는 빠르지만 훨씬 불안정하다.   \n",
    "비용 함수(Loss Function)가 최소값에 수렴할 때까지 부드럽게 감소하지 않고, 위아래로 요동치면서 평균적으로 감소한다.  \n",
    "  \n",
    "SGD는 비용함수가 매우 불규칙 할때, 알고리즘이 Local Minium을 건너 뛰도록 도와주므로, SGD가 BGD보다 Local Minium에 빠지 확률이 적고 Global Minium에 도달할 가능성이 높다.  \n",
    "\n",
    "하지만,  Global Minium $\\neq$ Global Optimal이다. 즉, Global Minium을 잘 탈출 시켜 주지만, BGD보다 Global Optimal을 찾을 가능성이 낮다. 이를 해결 하기 위해서 학습률을 점진적으로 감소 시키는 **learning rate decay** 기법을 사용한다. \n",
    "\n",
    "learning rate decay(또는 learning rate schedule)는 학습을 시작할 때는 학습률을 크게하고, 점진적으로 학습률을 줄여 전역 최소값에 도달하게 하는 방법이다.\n"
   ]
  },
  {
   "cell_type": "code",
   "execution_count": 19,
   "metadata": {},
   "outputs": [],
   "source": [
    "theta_path_sgd = []\n",
    "m = len(X_b)\n",
    "np.random.seed(42)"
   ]
  },
  {
   "cell_type": "code",
   "execution_count": 20,
   "metadata": {},
   "outputs": [
    {
     "data": {
      "image/png": "[encoded data removed]",
      "text/plain": [
       "<Figure size 432x288 with 1 Axes>"
      ]
     },
     "metadata": {
      "needs_background": "light"
     },
     "output_type": "display_data"
    }
   ],
   "source": [
    "n_epochs = 50\n",
    "t0, t1 = 5, 50  # learning schedule hyperparameters\n",
    "\n",
    "def learning_schedule(t):\n",
    "    return t0 / (t + t1)\n",
    "\n",
    "theta = np.random.randn(2,1)  # random initialization\n",
    "\n",
    "for epoch in range(n_epochs):\n",
    "    for i in range(m):\n",
    "        if epoch == 0 and i < 20:                   \n",
    "            y_predict = X_new_b.dot(theta)           \n",
    "            style = \"b-\" if i > 0 else \"r--\"         \n",
    "            plt.plot(X_new, y_predict, style)        \n",
    "        random_index = np.random.randint(m)\n",
    "        xi = X_b[random_index:random_index+1]\n",
    "        yi = y[random_index:random_index+1]\n",
    "        gradients = 2 * xi.T.dot(xi.dot(theta) - yi)\n",
    "        eta = learning_schedule(epoch * m + i)\n",
    "        theta = theta - eta * gradients\n",
    "        theta_path_sgd.append(theta)                 \n",
    "\n",
    "plt.plot(X, y, \"b.\")                                 \n",
    "plt.xlabel(\"$x_1$\", fontsize=18)                     \n",
    "plt.ylabel(\"$y$\", rotation=0, fontsize=18)           \n",
    "plt.axis([0, 2, 0, 15])                              \n",
    "plt.show()                                           "
   ]
  },
  {
   "cell_type": "code",
   "execution_count": 21,
   "metadata": {},
   "outputs": [
    {
     "data": {
      "text/plain": [
       "array([[4.21076011],\n",
       "       [2.74856079]])"
      ]
     },
     "execution_count": 21,
     "metadata": {},
     "output_type": "execute_result"
    }
   ],
   "source": [
    "theta"
   ]
  },
  {
   "cell_type": "markdown",
   "metadata": {},
   "source": [
    " "
   ]
  },
  {
   "cell_type": "markdown",
   "metadata": {},
   "source": [
    "sklearn에서 SGD 방식으로 선형회귀를 사용하기 위해서는 기본값으로 MSE 함수를 최적화 하는 `SGDRegressor`를 사용한다."
   ]
  },
  {
   "cell_type": "code",
   "execution_count": 22,
   "metadata": {},
   "outputs": [
    {
     "data": {
      "text/plain": [
       "SGDRegressor(eta0=0.1, penalty=None, random_state=42)"
      ]
     },
     "execution_count": 22,
     "metadata": {},
     "output_type": "execute_result"
    }
   ],
   "source": [
    "from sklearn.linear_model import SGDRegressor\n",
    "# 최대 1000번의 epoch, 허용오차: 0.001, 학습률: 0.1\n",
    "sgd_reg = SGDRegressor(max_iter=1000, tol=1e-3, penalty=None, eta0=0.1, random_state=42)\n",
    "sgd_reg.fit(X, y.ravel())"
   ]
  },
  {
   "cell_type": "code",
   "execution_count": 23,
   "metadata": {},
   "outputs": [
    {
     "data": {
      "text/plain": [
       "(array([4.24365286]), array([2.8250878]))"
      ]
     },
     "execution_count": 23,
     "metadata": {},
     "output_type": "execute_result"
    }
   ],
   "source": [
    "sgd_reg.intercept_, sgd_reg.coef_"
   ]
  },
  {
   "cell_type": "markdown",
   "metadata": {},
   "source": [
    " \n",
    " "
   ]
  },
  {
   "cell_type": "markdown",
   "metadata": {},
   "source": [
    "### 4.2.3 미니배치 경사 하강법<sub>Mini-batch gradient descent</sub>\n",
    "\n",
    "**미니배치 경사 하강법**(Mini-batch Gradient Descent)은 각 스텝에서 전체 Train Set을  미니배치(mini-batch), 즉 작은 데이터셋을 추출한 뒤 Gradient를 계산하는 방법이다. 미니배치 경사하강법의 장점은 행렬 연산에 최적화된 하드웨어, GPU에서 빠르게 수행되는 것이다. \n",
    "\n",
    "미니배치 경사 하강법은 SGD에 비해 덜 불규칙하게 감소하지만, local minimum에 빠질 확률은 높은 경우가 있다."
   ]
  },
  {
   "cell_type": "code",
   "execution_count": 24,
   "metadata": {},
   "outputs": [],
   "source": [
    "theta_path_mgd = []\n",
    "\n",
    "n_iterations = 50\n",
    "minibatch_size = 20\n",
    "\n",
    "np.random.seed(42)\n",
    "theta = np.random.randn(2,1)  # random initialization\n",
    "\n",
    "t0, t1 = 200, 1000\n",
    "def learning_schedule(t):\n",
    "    return t0 / (t + t1)\n",
    "\n",
    "t = 0\n",
    "for epoch in range(n_iterations):\n",
    "    shuffled_indices = np.random.permutation(m)\n",
    "    X_b_shuffled = X_b[shuffled_indices]\n",
    "    y_shuffled = y[shuffled_indices]\n",
    "    for i in range(0, m, minibatch_size):\n",
    "        t += 1\n",
    "        xi = X_b_shuffled[i:i+minibatch_size]\n",
    "        yi = y_shuffled[i:i+minibatch_size]\n",
    "        gradients = 2/minibatch_size * xi.T.dot(xi.dot(theta) - yi)\n",
    "        eta = learning_schedule(t)\n",
    "        theta = theta - eta * gradients\n",
    "        theta_path_mgd.append(theta)"
   ]
  },
  {
   "cell_type": "code",
   "execution_count": 25,
   "metadata": {},
   "outputs": [],
   "source": [
    "theta_path_bgd = np.array(theta_path_bgd)\n",
    "theta_path_sgd = np.array(theta_path_sgd)\n",
    "theta_path_mgd = np.array(theta_path_mgd)"
   ]
  },
  {
   "cell_type": "code",
   "execution_count": 26,
   "metadata": {},
   "outputs": [
    {
     "data": {
      "image/png": "[encoded data removed]",
      "text/plain": [
       "<Figure size 504x288 with 1 Axes>"
      ]
     },
     "metadata": {
      "needs_background": "light"
     },
     "output_type": "display_data"
    }
   ],
   "source": [
    "plt.figure(figsize=(7,4))\n",
    "plt.plot(theta_path_sgd[:, 0], theta_path_sgd[:, 1], \"r-s\", linewidth=1, label=\"Stochastic\")\n",
    "plt.plot(theta_path_mgd[:, 0], theta_path_mgd[:, 1], \"g-+\", linewidth=2, label=\"Mini-batch\")\n",
    "plt.plot(theta_path_bgd[:, 0], theta_path_bgd[:, 1], \"b-o\", linewidth=3, label=\"Batch\")\n",
    "plt.legend(loc=\"upper left\", fontsize=16)\n",
    "plt.xlabel(r\"$\\theta_0$\", fontsize=20)\n",
    "plt.ylabel(r\"$\\theta_1$   \", fontsize=20, rotation=0)\n",
    "plt.axis([2.5, 4.5, 2.3, 3.9])\n",
    "plt.show()"
   ]
  },
  {
   "cell_type": "markdown",
   "metadata": {},
   "source": [
    "모두 최소값 긑처에 도달했지만, BGD가 Global Optimal에 멈춘 반면,  \n",
    "SGD와 미니배치 경사 하강법은 근처에서 맴돌고 있다. -> learning schedule 필요"
   ]
  },
  {
   "cell_type": "markdown",
   "metadata": {},
   "source": [
    "| Algorithm | m is bigger | Supports external memory | n is bigger | num of hyperparameter | Scaling required | Sklearn |\n",
    "|-|-|-|-|-|-|-|\n",
    "| Normal Equation | Fast | No | Slow | 0 | No | N/A |\n",
    "| SVD | Fast | No | Slow | 0 | No | LinearRegression |\n",
    "| BGD | Slow | No | Fast | 2 | Yes | SGDRegressor |\n",
    "| SGD | Fast | Yes | Fast | ≥2 | Yes | SGDRegressor |\n",
    "| Mini-Batch SGD | Fast | Yes | Fast | ≥2 | Yes | SGDRegressor |"
   ]
  },
  {
   "cell_type": "markdown",
   "metadata": {},
   "source": [
    " "
   ]
  },
  {
   "cell_type": "markdown",
   "metadata": {},
   "source": [
    "#### 배치 경사 하강법 (Batch Gradient Descent: BGD)\n",
    "배치 경사 하강법이란, 전체 학습 데이터를 하나의 배치로(배치 크기가 n) 묶어 학습시키는 경사 하강법  \n",
    "(**배치**: **GPU가 한번에 처리하는 데이터의 묶음**)\n",
    "\n",
    "전체 데이터에 대한 모델의 오차의 평균을 구한 다음, 이를 이용하여 미분을 통해 경사를 산출, 최적화를 진행한다.\n",
    "보통 딥러닝 라이브러리에서 배치를 지정하지 않으면 이 방법을 쓰고 있다고 생각할 수 있다.\n",
    "\n",
    "배치 경사 하강법의 특징은 아래와 같다.\n",
    "\n",
    "- 전체 데이터를 통해 학습시키기 때문에, 가장 업데이트 횟수가 적다. (1 Epoch 당 1회 업데이트)\n",
    "- 전체 데이터를 모두 한 번에 처리하기 때문에, 메모리가 가장 많이 필요하다.\n",
    "- 항상 같은 데이터 (전체 데이터)에 대해 경사를 구하기 때문에, 수렴이 안정적이다.   \n",
    "\n",
    "<img src=\"https://img1.daumcdn.net/thumb/R1280x0/?scode=mtistory2&fname=https%3A%2F%2Fblog.kakaocdn.net%2Fdn%2Fxzcf3%2FbtqEuYhYtuF%2FjfMqBQlOKTq94H15yADKrK%2Fimg.png\" width=\"400\" width=\"auto\" align=\"center\">\n"
   ]
  },
  {
   "cell_type": "markdown",
   "metadata": {},
   "source": [
    "#### 확률적 경사 하강법 (Stochastic Gradient Descent: SGD)\n",
    "확률적 경사 하강법은 전체 데이터 중 **단 하나의 데이터를 이용하여 경사 하강법을 1회 진행**(배치 크기가 1)하는 방법이다.\n",
    "전체 학습 데이터 중 랜덤하게 선택된 하나의 데이터로 학습을 하기 때문에 확률적 이라 부른다.\n",
    "\n",
    "배치 경사 하강법에 비해 적은 데이터로 학습할 수 있고, 속도가 빠른 장점이 있다. 무엇보다 큰 특징은 **수렴에 Shooting이 발생한다는 점이다.**\n",
    "\n",
    "각 데이터에 대한 손실값의 기울기는 약간씩 다르기 때문에, 손실값의 평균이 아닌 개별 데이터에 대해 미분을 수행하면 기울기의 방향이 매번 크게 바뀐다.  \n",
    " \n",
    "<img src=\"https://img1.daumcdn.net/thumb/R1280x0/?scode=mtistory2&fname=https%3A%2F%2Fblog.kakaocdn.net%2Fdn%2F7hWCJ%2FbtqEuYhZtI9%2FYXwknUwaKcMhJOdhTUyRR1%2Fimg.png\" width=\"400\" width=\"auto\" align=\"center\">        \n",
    "  \n",
    "\n",
    "그러나 결국 학습 데이터 전체에 대해 보편적으로 좋은 값을 내는 방향으로 수렴한다. 다만, 최저점에 안착하기는 어렵다.\n",
    "\n",
    "또한, Shooting은 최적화가 지역 최저점Local Minima에 빠질 확률을 줄여준다.\n",
    "\n",
    "- 한 번에 하나의 데이터를 이용하므로 GPU의 병렬 처리를 그다지 잘 활용하지는 못한다.\n",
    "- 1회 학습할 때 계산량이 줄어든다.\n",
    "- Global Minimum에 수렴하기 어렵다.\n",
    "- 노이즈가 심하다. (Shooting이 너무 심하다.)\n",
    "\n"
   ]
  },
  {
   "cell_type": "markdown",
   "metadata": {},
   "source": [
    "#### 미니 배치 확률적 경사 하강법 (Mini-Batch Stochastic Gradient Descent: MSGD)\n",
    "딥러닝 라이브러리 등에서 SGD를 얘기하면 최근에는 대부분 이 방법을 의미한다.\n",
    "SGD와 BGD의 절충안으로, 전체 데이터를 `batch_size`개씩 나눠 배치로 학습(배치 크기를 사용자가 지정)시키는 것이다.\n",
    "\n",
    "예를 들어, 전체 데이터가 1000개인 데이터를 학습시킬 때, batch_size가 100이라면, 전체를 100개씩 총 10 묶음의 배치로 나누어 1 Epoch당 10번 경사하강법을 진행한다.\n",
    "\n",
    "Shooting이 발생하기는 하지만, 한 배치의 손실값의 평균으로 경사하강을 진행하기 때문에, Shooting이 심하지는 않다.  \n",
    "\n",
    "<img src=\"https://img1.daumcdn.net/thumb/R1280x0/?scode=mtistory2&fname=https%3A%2F%2Fblog.kakaocdn.net%2Fdn%2FbkVbjU%2FbtqEtOUJD9H%2FL9KHdOnSukjHnhlRwRERy1%2Fimg.png\" width=\"400\" width=\"auto\" align=\"center\">  \n",
    "\n",
    "\n",
    "- BGD보다 계산량이 적다. (Batch Size에 따라 계산량 조절 가능)\n",
    "- Shooting이 적당히 발생한다. (Local Minimum를 어느정도 회피할 수 있다.)\n"
   ]
  },
  {
   "cell_type": "markdown",
   "metadata": {},
   "source": [
    "배치는 경사 하강법 1회에 사용되는 데이터의 묶음이다.  \n",
    "배치의 크기에 따라 아래와 같이 나눌 수 있다.  \n",
    "- (배치 크기) == (전체 학습 데이터): 배치 경사 하강법 (BGD)\n",
    "- (배치 크기) == 1: 확률적 경사 하강법 (SGD)\n",
    "- (배치 크기) == (사용자가 지정) 미니 배치 확률적 경사 하강법 (MSGD)  "
   ]
  },
  {
   "cell_type": "markdown",
   "metadata": {},
   "source": [
    " "
   ]
  },
  {
   "cell_type": "markdown",
   "metadata": {},
   "source": [
    "## 다항 회귀<sub>Polynomial regression</sub>\n",
    "비선형 데이터도 선형 모델을 통해 학습 가능 $\\rightarrow$ 특성의 거듭제곱을 새로운 특성으로 추가한다.  \n",
    "이러한 기법을 **다항 회귀**<sub>polynomial regression</sub>이라고 한다.\n"
   ]
  },
  {
   "cell_type": "code",
   "execution_count": 27,
   "metadata": {},
   "outputs": [],
   "source": [
    "import numpy as np\n",
    "import numpy.random as rnd\n",
    "\n",
    "np.random.seed(42)\n",
    "m = 100\n",
    "X = 6 * np.random.rand(m, 1) - 3\n",
    "y = 0.5 * X**2 + X + 2 + np.random.randn(m, 1)"
   ]
  },
  {
   "cell_type": "markdown",
   "metadata": {},
   "source": [
    "\n",
    "$$\n",
    "y = 0.5 x^2 + 2x + 2 + \\epsilon\n",
    "$$\n",
    "\n",
    "위 식에 대해 그래프를 그려보면 위와 같다."
   ]
  },
  {
   "cell_type": "code",
   "execution_count": 28,
   "metadata": {},
   "outputs": [
    {
     "data": {
      "image/png": "[encoded data removed]",
      "text/plain": [
       "<Figure size 432x288 with 1 Axes>"
      ]
     },
     "metadata": {
      "needs_background": "light"
     },
     "output_type": "display_data"
    }
   ],
   "source": [
    "plt.plot(X, y, \"b.\")\n",
    "plt.xlabel(\"$x_1$\", fontsize=18)\n",
    "plt.ylabel(\"$y$\", rotation=0, fontsize=18)\n",
    "plt.axis([-3, 3, 0, 10])\n",
    "plt.show()"
   ]
  },
  {
   "cell_type": "markdown",
   "metadata": {},
   "source": [
    "위의 식에 맞게끔 Scikit-Learn의 `PolynomialFeatures`를 이용해 데이터의 특성(feature, 여기서 $X$)을 제곱하면 다음과 같다."
   ]
  },
  {
   "cell_type": "code",
   "execution_count": 29,
   "metadata": {},
   "outputs": [
    {
     "data": {
      "text/plain": [
       "array([-0.75275929])"
      ]
     },
     "execution_count": 29,
     "metadata": {},
     "output_type": "execute_result"
    }
   ],
   "source": [
    "from sklearn.preprocessing import PolynomialFeatures\n",
    "poly_features = PolynomialFeatures(degree=2, include_bias=False)\n",
    "X_poly = poly_features.fit_transform(X)\n",
    "X[0]"
   ]
  },
  {
   "cell_type": "code",
   "execution_count": 30,
   "metadata": {},
   "outputs": [
    {
     "data": {
      "text/plain": [
       "array([-0.75275929,  0.56664654])"
      ]
     },
     "execution_count": 30,
     "metadata": {},
     "output_type": "execute_result"
    }
   ],
   "source": [
    "X_poly[0]"
   ]
  },
  {
   "cell_type": "markdown",
   "metadata": {},
   "source": [
    "`X_poly`는 원래 값과 제곱 값을 포함한다. 이 확장된 데이터 셋에 `Linear Regression`을 적용하면 다음과 같다."
   ]
  },
  {
   "cell_type": "code",
   "execution_count": 31,
   "metadata": {},
   "outputs": [
    {
     "data": {
      "text/plain": [
       "(array([1.78134581]), array([[0.93366893, 0.56456263]]))"
      ]
     },
     "execution_count": 31,
     "metadata": {},
     "output_type": "execute_result"
    }
   ],
   "source": [
    "lin_reg = LinearRegression()\n",
    "lin_reg.fit(X_poly, y)\n",
    "lin_reg.intercept_, lin_reg.coef_"
   ]
  },
  {
   "cell_type": "code",
   "execution_count": 32,
   "metadata": {},
   "outputs": [
    {
     "data": {
      "image/png": "[encoded data removed]",
      "text/plain": [
       "<Figure size 432x288 with 1 Axes>"
      ]
     },
     "metadata": {
      "needs_background": "light"
     },
     "output_type": "display_data"
    }
   ],
   "source": [
    "X_new=np.linspace(-3, 3, 100).reshape(100, 1)\n",
    "X_new_poly = poly_features.transform(X_new)\n",
    "y_new = lin_reg.predict(X_new_poly)\n",
    "plt.plot(X, y, \"b.\")\n",
    "plt.plot(X_new, y_new, \"r-\", linewidth=2, label=\"Predictions\")\n",
    "plt.xlabel(\"$x_1$\", fontsize=18)\n",
    "plt.ylabel(\"$y$\", rotation=0, fontsize=18)\n",
    "plt.legend(loc=\"upper left\", fontsize=14)\n",
    "plt.axis([-3, 3, 0, 10])\n",
    "plt.show()"
   ]
  },
  {
   "cell_type": "markdown",
   "metadata": {},
   "source": []
  },
  {
   "cell_type": "markdown",
   "metadata": {},
   "source": [
    "## 4.4 학습 곡선 (Learning Curve)\n",
    "\n",
    "고차 다항 회귀를 사용하면 선형 회귀(linear regression)보다 Train Set에 Overfitting 될 위험이 크다. "
   ]
  },
  {
   "cell_type": "code",
   "execution_count": 33,
   "metadata": {},
   "outputs": [
    {
     "data": {
      "image/png": "[encoded data removed]",
      "text/plain": [
       "<Figure size 432x288 with 1 Axes>"
      ]
     },
     "metadata": {
      "needs_background": "light"
     },
     "output_type": "display_data"
    }
   ],
   "source": [
    "from sklearn.preprocessing import StandardScaler\n",
    "from sklearn.pipeline import Pipeline\n",
    "\n",
    "for style, width, degree in ((\"g-\", 1, 300), (\"b--\", 2, 2), (\"r-+\", 2, 1)):\n",
    "    polybig_features = PolynomialFeatures(degree=degree, include_bias=False)\n",
    "    std_scaler = StandardScaler()\n",
    "    lin_reg = LinearRegression()\n",
    "    polynomial_regression = Pipeline([\n",
    "            (\"poly_features\", polybig_features),\n",
    "            (\"std_scaler\", std_scaler),\n",
    "            (\"lin_reg\", lin_reg),\n",
    "        ])\n",
    "    polynomial_regression.fit(X, y)\n",
    "    y_newbig = polynomial_regression.predict(X_new)\n",
    "    plt.plot(X_new, y_newbig, style, label=str(degree), linewidth=width)\n",
    "\n",
    "plt.plot(X, y, \"b.\", linewidth=3)\n",
    "plt.legend(loc=\"upper left\")\n",
    "plt.xlabel(\"$x_1$\", fontsize=18)\n",
    "plt.ylabel(\"$y$\", rotation=0, fontsize=18)\n",
    "plt.axis([-3, 3, 0, 10])\n",
    "plt.show()"
   ]
  },
  {
   "cell_type": "markdown",
   "metadata": {},
   "source": [
    "이전에 일반화 성능을 추정하기 위해서 교차검증(CrossValidation) 기법을 사용했다. 훈련 데이터에서 성능이 좋지만, 교차 검증 점수가 나쁘면 모델이 과대적합 된 것이다.  \n",
    "만약, 양쪽 모두 좋지 못하다면 과소적합 된 모델이다. 이는 모델이 너무 복잡하거나 단순하다는 것이다.   \n",
    "\n",
    "과대적합 여부를 확인하는 다른 방법으로는 **학습 곡석**을 살펴보는것이다. "
   ]
  },
  {
   "cell_type": "code",
   "execution_count": 34,
   "metadata": {},
   "outputs": [],
   "source": [
    "from sklearn.metrics import mean_squared_error\n",
    "from sklearn.model_selection import train_test_split\n",
    "\n",
    "def plot_learning_curves(model, X, y):\n",
    "    X_train, X_val, y_train, y_val = train_test_split(X, y, test_size=0.2, random_state=10)\n",
    "    train_errors, val_errors = [], []\n",
    "    for m in range(1, len(X_train)):\n",
    "        model.fit(X_train[:m], y_train[:m])\n",
    "        y_train_predict = model.predict(X_train[:m])\n",
    "        y_val_predict = model.predict(X_val)\n",
    "        train_errors.append(mean_squared_error(y_train[:m], y_train_predict))\n",
    "        val_errors.append(mean_squared_error(y_val, y_val_predict))\n",
    "\n",
    "    plt.plot(np.sqrt(train_errors), \"r-+\", linewidth=2, label=\"train\")\n",
    "    plt.plot(np.sqrt(val_errors), \"b-\", linewidth=3, label=\"val\")\n",
    "    plt.legend(loc=\"upper right\", fontsize=14)   \n",
    "    plt.xlabel(\"Training set size\", fontsize=14) \n",
    "    plt.ylabel(\"RMSE\", fontsize=14)              "
   ]
  },
  {
   "cell_type": "code",
   "execution_count": 35,
   "metadata": {},
   "outputs": [
    {
     "data": {
      "image/png": "[encoded data removed]",
      "text/plain": [
       "<Figure size 432x288 with 1 Axes>"
      ]
     },
     "metadata": {
      "needs_background": "light"
     },
     "output_type": "display_data"
    }
   ],
   "source": [
    "lin_reg = LinearRegression()\n",
    "plot_learning_curves(lin_reg, X, y)\n",
    "plt.axis([0, 80, 0, 3])                         \n",
    "plt.show()                                    "
   ]
  },
  {
   "cell_type": "markdown",
   "metadata": {},
   "source": [
    "#### 훈련 데이터\n",
    "그래프가 0부터 시작한다. 훈련 세트에 1개 혹은 2개의 샘플이 있을땐 모델이 완벽 하게 작동한다. 하지만, 훈련 세트에 샘플이 추가됨에 따라 잡음이 있고 비선형이기 때문에 모델이 훈련 데이터를 완벽히 학습이 불가능 해진다.   \n",
    "그래서 곡선이 어느 정도 평편해질 때까지 오차가 계속 상승한다.  \n",
    "\n",
    "#### 검증 데이터\n",
    "모델이 적은 수의 샘플로 훈련된 떄는 제대로 일반화가 불가능하다. 그래서 검증 오차가 초기에는 매우 크다. 모델에 훈련 샘플이 추가됨에 따라 학습이 되고 검증오차가 천천히 감소한다.   \n",
    "하지만 선형회귀의 직선은 데이터를 잘 모델링 할 수 없으므로 오차의 감소가 완만해져서 훈려세트의 그래프오 가까워 진다."
   ]
  },
  {
   "cell_type": "markdown",
   "metadata": {},
   "source": [
    "위 학습곡선은 과소적합 모델의 전형적인 못브이다. 두 곡선이 수평한 구간을 만들고 꽤 높은 오차에서 매우 가까이 근접해 있다.  \n",
    "\n",
    "#### TIP\n",
    "모델이 훈련 데이터에 과소적합 되어 있따면 훈련 샘프을 더 추가해도 효과가 없다. 더 복잡한 모델을 사용하거나 더 나은 특성을 선택해야한다. "
   ]
  },
  {
   "cell_type": "markdown",
   "metadata": {},
   "source": [
    "같은 데이터에서 10차 다항 회위 모델의 학습 곡선을 그리면 다음과 같다."
   ]
  },
  {
   "cell_type": "code",
   "execution_count": 36,
   "metadata": {},
   "outputs": [
    {
     "data": {
      "image/png": "[encoded data removed]",
      "text/plain": [
       "<Figure size 432x288 with 1 Axes>"
      ]
     },
     "metadata": {
      "needs_background": "light"
     },
     "output_type": "display_data"
    }
   ],
   "source": [
    "from sklearn.pipeline import Pipeline\n",
    "\n",
    "polynomial_regression = Pipeline([\n",
    "        (\"poly_features\", PolynomialFeatures(degree=10, include_bias=False)),\n",
    "        (\"lin_alg\", LinearRegression())\n",
    "])\n",
    "plot_learning_curves(polynomial_regression, X,y)\n",
    "plt.axis([0, 80, 0, 3])           \n",
    "plt.show() "
   ]
  },
  {
   "cell_type": "markdown",
   "metadata": {},
   "source": [
    "위 학습 곡선은 이전 곡선과 다른 중요한 차이점이 있디.\n",
    "- 훈련 데이터의 오차가 선형 회귀보다 훨씬 낮다(훈련 데이터에 한 해 성능이 더 좋다.)\n",
    "- 두 곡선 사이에 공간이 존재한다. 이는 훈련데이터가 검증 데이터 보다 오차가 낮다는 뜻이고, 이는 과대적합 모델의 특징이다. 그러나, 더 큰 데이터셋을 사용하면 이 차이가 점점 줄어든다(과대적합이 줄어든다.)"
   ]
  },
  {
   "cell_type": "markdown",
   "metadata": {},
   "source": [
    " "
   ]
  },
  {
   "cell_type": "markdown",
   "metadata": {},
   "source": [
    "## 4.5 규제(Regularization)가 있는 선형 모델\n",
    "- 과대적합을 감소시키는 좋은 방법은 모델을 규제하는 것이다. (모델을 제한한다) \n",
    "- 자유도(degree of freedom)를 줄이면 데이터에 과대적합되기 더 어려워 진다.\n",
    "- 다항 회귀의 모델을 규제하는 간단한 방법은 다항식의 차수를 감소시키는 것이다.\n",
    "\n",
    "**자유도**: 통계적 추정을 할 때 표본자료 중 모집단에 대한 정보를 주는 독립적인 자료의 수\n",
    "\n",
    "  "
   ]
  },
  {
   "cell_type": "markdown",
   "metadata": {},
   "source": [
    "  \n",
    "#### NOTE\n",
    "일반적으로 비용함수(Cost Function)과 테스트에서 사용하는 성능지표는 다르다. 이들이 다른 이유는 훈련 시에 비용 함수에서는 최적화를 위해 **미분**이 가능 해야 하기 때문이다.   \n",
    "\n",
    "반면, 테스트에 사용되는 성능 지표에는 최종 목표에 최대한 가까워야 한다. 때문에 로그 손실과 같은 비용함수를 사용해서 훈련시킬 Classifer의 정밀도/재현율을 사용하여 평가 해야 한다. \n",
    "  "
   ]
  },
  {
   "cell_type": "markdown",
   "metadata": {},
   "source": [
    "\n",
    "### 4.5.1 릿지 회귀 (Ridge Regression)\n",
    "**릿지 회귀**(또는 티호노프 규제)는 규제(regularization)가 추가된 선형 회귀 모델이다. 규제항(regularization term) $\\lambda \\sum_{i=1}^{n}{\\theta_{i}^{2}}$ 이 비용함수(loss function)에 추가된다. \n",
    "\n",
    "따라서, 모델(알고리즘)을 데이터에 적합 시키는 것뿐만 아니라 <u>모델의 가중치가 가능한 작게 유지되도록 한다.</u> 규제항은 학습에만 사용되며 **테스트 시에는 규제항이 사용되지 않는다.**\n",
    "\n",
    "$$\n",
    "J(\\theta) = \\text{MSE}(\\theta) + \\alpha\\frac{1}{2} \\sum_{i=1}^{n}{\\theta_{i}^{2}}\n",
    "$$\n",
    "\n",
    "\n",
    "위의 식에서 $\\alpha$는 하이퍼파라미터이며, 모델을 얼마나 많이 규제할지 조절한다. $\\alpha = 0$이면 릿지 회귀는 일반 선형 회귀와 같아지며, $\\alpha$가 커지게되면 모든 가중치가 거의 0에 가까워져, 결국 데이터의 평균을 지나는 선이 된다.\n",
    "\n",
    "릿지 회귀는 입력 특성의 스케일에 민감하기 때문에 데이터 스케일을 맞춰주는것이 중요하다.  \n",
    "\n"
   ]
  },
  {
   "cell_type": "markdown",
   "metadata": {},
   "source": [
    "\n",
    "편향 $\\theta_0$은 규제되지 않는다.($i = 1$에서 부터 시작한다.)  \n",
    "  \n",
    "w를 attribute들의 가중치 벡터($\\theta_1, .. , \\theta_n$)라고 정의하면, 규제항은 $\\sqrt{(\\lVert{w}\\rVert_2)^2}$ \n",
    "\n",
    "경사 하강법에 적용하려면 MSE 그라디언트 백터에 $\\alpha$w를 더하면 된다."
   ]
  },
  {
   "cell_type": "markdown",
   "metadata": {},
   "source": [
    "다음 그림은 몇 가지 다른 $\\alpha%에 따른 릿지 모델을 훈련 시킨 결과다.   \n",
    "- 왼쪽 그래프: 평범한 릿지 모델을 사용, 선형적 예측  \n",
    "- 오른쪽 그래프: `PolynomialFeatures(degree=10)`을 사용하여 데이터 확장 후, `StandardScaler`를 사용해서 조정하여 릿지모델 생성\n",
    "\n",
    "<img src=\"images/training_linear_models/ridge_regression_plot.png\" width=\"500\">"
   ]
  },
  {
   "cell_type": "markdown",
   "metadata": {},
   "source": [
    "$ \\alpha $가 증가 할 수록 직선에 가까워 진다.(일반화가 된다) 즉, 모델의 분산은 줄어들고 편향(<i>residual</i>)은 커진다."
   ]
  },
  {
   "cell_type": "markdown",
   "metadata": {},
   "source": [
    "릿지 회귀의 정규방정식은 다음과 같다.\n",
    "\n",
    "$$\n",
    "\\hat{\\mathbf{W}} = \\left( \\mathbf{X}^{T} \\cdot \\mathbf{X} + \\lambda I \\right)^{-1} \\cdot \\mathbf{X}^{T} \\cdot \\mathbf{y}\n",
    "$$  \n",
    "사이킷런에서 릿지회귀를 정규 방정식을 통해 구하는 과정은 다음과 같다. (숄레스키 분해<sub>Cholesky decomposition</sub> 사용)"
   ]
  },
  {
   "cell_type": "code",
   "execution_count": 37,
   "metadata": {},
   "outputs": [],
   "source": [
    "np.random.seed(42)\n",
    "m = 20\n",
    "X = 3 * np.random.rand(m, 1)\n",
    "y = 1 + 0.5 * X + np.random.randn(m, 1) / 1.5\n",
    "X_new = np.linspace(0, 3, 100).reshape(100, 1)"
   ]
  },
  {
   "cell_type": "code",
   "execution_count": 38,
   "metadata": {},
   "outputs": [
    {
     "data": {
      "text/plain": [
       "array([[1.55071465]])"
      ]
     },
     "execution_count": 38,
     "metadata": {},
     "output_type": "execute_result"
    }
   ],
   "source": [
    "from sklearn.linear_model import Ridge\n",
    "ridge_reg = Ridge(alpha=1, solver='cholesky', random_state=42)\n",
    "ridge_reg.fit(X,y)\n",
    "ridge_reg.predict([[1.5]])"
   ]
  },
  {
   "cell_type": "markdown",
   "metadata": {},
   "source": [
    "`SGDRegressor()` 사용은 다음과 같다."
   ]
  },
  {
   "cell_type": "code",
   "execution_count": 39,
   "metadata": {},
   "outputs": [
    {
     "data": {
      "text/plain": [
       "array([1.47012588])"
      ]
     },
     "execution_count": 39,
     "metadata": {},
     "output_type": "execute_result"
    }
   ],
   "source": [
    "sgd_reg = SGDRegressor(penalty=\"l2\", random_state=42)\n",
    "sgd_reg.fit(X, y.flatten())\n",
    "sgd_reg.predict([[1.5]]) # flatten과 같은 함수"
   ]
  },
  {
   "cell_type": "markdown",
   "metadata": {},
   "source": [
    "`penalty`의 매개변수는 사용할 규제를 지정, l2는 SGD가 비용 함수에 가중치 벡터의 l2 규제를 추가한다는 뜻, 즉 릿지회귀와 같다."
   ]
  },
  {
   "cell_type": "markdown",
   "metadata": {},
   "source": [
    " "
   ]
  },
  {
   "cell_type": "markdown",
   "metadata": {},
   "source": [
    "### 4.5.2 라쏘 회귀 (Lasso Regression)\n",
    "\n",
    "**라쏘**(Lasso, Least Absolut Shrinkage and Selection Operator) 회귀는 또 다른 규제의 한 종류다. 라쏘의 규제항은 $\\lambda \\sum_{i=1}^{n}{\\left| w_i \\right|}$ 이며, 비용함수는 다음과 같다.\n",
    "\n",
    "$$\n",
    "J(w) = \\text{MSE}(w) + \\lambda \\sum_{i=1}^{n}{\\left| w_i \\right|}\n",
    "$$\n",
    "\n",
    "<u>라쏘 회귀의 중요한 특징은 상대적으로 덜 중요한 특성의 가중치를 0으로 만들어 버린다.</u>(즉, 가중치가 0이 된다.) 따라서, 라쏘 회귀는 모델에 필요한 특성을 선택하여 **희소 모델**(sparse model)을 만든다."
   ]
  },
  {
   "cell_type": "markdown",
   "metadata": {},
   "source": [
    "<img src=\"./images/training_linear_models/lasso_regression_plot.png\" width=\"80%\">"
   ]
  },
  {
   "cell_type": "markdown",
   "metadata": {},
   "source": [
    "#### Lasso vs Ridge"
   ]
  },
  {
   "cell_type": "markdown",
   "metadata": {},
   "source": [
    "<img src=\"./images/training_linear_models/lasso_vs_ridge_plot.png\" width=\"80%\">"
   ]
  },
  {
   "cell_type": "markdown",
   "metadata": {},
   "source": [
    "#### Lasso의 특징\n",
    "- $l1$의 그라디언트는 0에서 정의되지 않기 때문에 진동이 발생. 이 지점에서 그라디언트는 -1 또는 1\n",
    "\n",
    "\n",
    "#### Ridge의 특징\n",
    "- 파라미터가 Global Minimum에 가까워질수록 그라디언트가 작아진다. 따라서, 경사 하강법이 자동으로 느려지고 수렴에 도움이 된다.(진동이 없어짐)\n",
    "- $\\alpha$를 증가 시킬수록 최적의 파라미터(빨간 사각형)가 원점에 가까워진다. 하지만, 완전히 0이 되지는 않는다."
   ]
  },
  {
   "cell_type": "markdown",
   "metadata": {},
   "source": [
    "위 예제에 사용된 비용함수(손실함수)를 나타내면 다음과 같다."
   ]
  },
  {
   "cell_type": "markdown",
   "metadata": {},
   "source": [
    "<img src=\"./images/training_linear_models/rasso_graph.gif\" align=\"left\">\n",
    "<img src=\"./images/training_linear_models/ridge_graph.gif\" align=\"right\">\n"
   ]
  },
  {
   "cell_type": "markdown",
   "metadata": {},
   "source": [
    "왼쪽: $l_1$ 규제 비용함수 $ | \\theta_1 | + |\\theta_2|  $  , 오른쪽: $l_2$ 규제 비용함수 $\\sqrt{\\theta_1^2 + \\theta_2^2}$"
   ]
  },
  {
   "cell_type": "markdown",
   "metadata": {},
   "source": [
    "라쏘의 비용함수는 $\\theta_i = 0 (i= 1,2,  ... , n) $에서 미분 불가능이다. 하지만 $\\theta_i = 0$ 일 때, subgradient vector를 사용하면 경사하강법을 적용가능하다. "
   ]
  },
  {
   "cell_type": "code",
   "execution_count": 40,
   "metadata": {},
   "outputs": [
    {
     "data": {
      "text/plain": [
       "array([1.53788174])"
      ]
     },
     "execution_count": 40,
     "metadata": {},
     "output_type": "execute_result"
    }
   ],
   "source": [
    "from sklearn.linear_model import Lasso\n",
    "lasso_reg = Lasso(alpha=0.1)\n",
    "lasso_reg.fit(X, y)\n",
    "lasso_reg.predict([[1.5]])"
   ]
  },
  {
   "cell_type": "markdown",
   "metadata": {},
   "source": [
    "### 4.5.3 엘라스틱넷 (Elastic Net)\n",
    "\n",
    "**엘라스틱 넷**(Elastic Net)은 릿지(Ridge) 회귀와 라쏘(Lasso) 회귀를 절충한 모델이다.   \n",
    "혼합정로를 혼합 비율 $r$을 사용해 조절한다. $r=0$이면 Ridge회귀, $r=1$이면 Rasso 회귀이다.\n",
    "\n",
    "$$\n",
    "J(w) = \\text{MSE}(w) + \\alpha \\sum_{i=1}^{n}{w_i}^2 + \\left( 1 - \\alpha \\right) \\sum_{i=1}^{n}{\\left| w_i \\right|}, \\quad \\alpha = \\frac{\\lambda_2}{\\lambda_2 + \\lambda_1}\n",
    "$$\n",
    "\n",
    "- $\\lambda_2$ : $L_2$, 즉 릿지 회귀의 하이퍼파라미터\n",
    "- $\\lambda_1$ : $L_1$, 즉 라쏘 회귀의 하이퍼파라미터"
   ]
  },
  {
   "cell_type": "markdown",
   "metadata": {},
   "source": [
    "#### 어떠한 규제를 사용해야 할까?\n",
    "\n",
    "- 규제(regularization)가 있는 모델이 대부분의 경우에 좋으므로 규제가 없는 모델을 사용하기 보다는 규제가 있는 모델을 사용하는 것이 좋다.\n",
    "- 대부분의 경우에는 $L_2$ 규제 즉, Ridge가 좋지만 모델에 사용되는 특성이 적을것이라고 예상되는 경우에는 Rasso나, 엘라스틱넷을 사용하는 것이 좋다.\n",
    "    - 그 이유는, 라쏘나 엘라스틱넷은 불필요한 특성을 0으로 만들어 주기 때문이다.\n",
    "- 특성 수가 Train set 보다 많거나 몇개의 특성이 강한 상관성을 보인다면 엘라스틱넷을 사용하는 것이 좋다."
   ]
  },
  {
   "cell_type": "code",
   "execution_count": 41,
   "metadata": {},
   "outputs": [
    {
     "data": {
      "text/plain": [
       "array([1.54333232])"
      ]
     },
     "execution_count": 41,
     "metadata": {},
     "output_type": "execute_result"
    }
   ],
   "source": [
    "from sklearn.linear_model import ElasticNet\n",
    "\n",
    "elastic_net = ElasticNet(alpha=0.1, l1_ratio=0.5, random_state=42)\n",
    "elastic_net.fit(X, y)\n",
    "elastic_net.predict([[1.5]])"
   ]
  },
  {
   "cell_type": "markdown",
   "metadata": {},
   "source": []
  },
  {
   "cell_type": "markdown",
   "metadata": {},
   "source": [
    "### 4.5.4 조기 종료\n",
    "\n",
    "또 다른 규제 방법은 경사 하강법을 이용해 학습하면서 검증 세트의 error가 최소값에 도달했을 때 스텝이 남았더라도 학습을 중지하는 **조기 종료**(early stopping)이 있다."
   ]
  },
  {
   "cell_type": "markdown",
   "metadata": {},
   "source": [
    "<img src=\"./images/training_linear_models/early_stopping_plot.png\" width=\"500\">"
   ]
  },
  {
   "cell_type": "markdown",
   "metadata": {},
   "source": [
    "검증에러(RMSE)가 다시 증가 하기 시작 하는 순간은 과대적합 되기 시작하는 순간을 말한다. 이때 훈련을 멈추어 과대적합을 막는다."
   ]
  },
  {
   "cell_type": "markdown",
   "metadata": {},
   "source": []
  },
  {
   "cell_type": "markdown",
   "metadata": {},
   "source": [
    "## 4.6 로지스틱 회귀 (Logistic Regression)\n",
    "\n",
    "샘플이 특정 클래스에 속할 확률을 추정하는데 널리 사용됨. 로지스틱 회귀는 이진 분류 알고리즘 중 하나인 모델이다."
   ]
  },
  {
   "cell_type": "markdown",
   "metadata": {},
   "source": []
  },
  {
   "cell_type": "markdown",
   "metadata": {},
   "source": [
    "로지스틱 회귀는 선형 회귀(linear regression)과 같이 입력 특성(feature)의 가중치 합을 계산한 뒤 로지스틱 함수(***sigmoid***)를 적용해 출력값을 계산한다. \n",
    "\n",
    "$$\n",
    "\\hat{p} = h_{w}(\\mathbf{x}) = \\sigma \\left( \\mathbf{W}^{T} \\cdot \\mathbf{x} \\right)\n",
    "$$"
   ]
  },
  {
   "cell_type": "markdown",
   "metadata": {},
   "source": [
    "위의 식에서 $\\sigma(\\cdot)$이 바로 로지스틱(또는 로짓) 함수이며 0과 1사이의 값을 출력하는 **시그모이드 함수**(sigmoid function)이다.\n",
    "\n",
    "$$\n",
    "\\sigma(x) = \\frac{1}{1 + \\text{exp}(-x)}\n",
    "$$\n",
    "  \n",
    "<img src=\"./images/training_linear_models/logistic_function_plot.png\" width=\"500\" align=\"center\">\n"
   ]
  },
  {
   "cell_type": "markdown",
   "metadata": {},
   "source": [
    "로지스틱 회귀 모델이 샘플 x가 양성 클래스에 속할 확률 $\\hat{p} = h_\\theta(x)$를 추정하면 이에 대한 예측 $\\hat{y}$를 쉽게 구할 수 있다.\n",
    "$$\n",
    "\\hat{y} = \\begin{cases} 0 \\quad \\hat{p} < 0.5 \\\\ 1 \\quad \\hat{p} \\ge 0.5 \\end{cases}\n",
    "$$  \n",
    "  \n",
    "$t<0$이면 $ \\sigma(t) < 0.5$이고, $t≥0$이면 $ \\sigma(t) ≥ 0.5$이므로 로지스틱 회귀 모델은 $W^Tx$가 양수 일 때 1(*Positive Class*)이라고 예측, 음수일때 0(*Negative Class*)라고 예측한다"
   ]
  },
  {
   "cell_type": "markdown",
   "metadata": {},
   "source": []
  },
  {
   "cell_type": "markdown",
   "metadata": {},
   "source": [
    "### 4.6.2 훈련과 비용 함수\n",
    "\n",
    "Logistic Regression의 학습 데이터 하나에 대한 비용 함수는 다음과 같다.\n",
    "\n",
    "$$\n",
    "c(\\mathbf{\\theta}) = \\begin{cases} -\\log{\\left( \\hat{p} \\right)} \\quad \\text{if, }y=1 \\\\ -\\log{\\left(1-\\hat{p}\\right)} \\quad \\text{if, }y = 0 \\end{cases}\n",
    "$$  \n",
    "\n",
    "\n",
    "<img src=\"./images/training_linear_models/logit_cost_function.png\" >\n"
   ]
  },
  {
   "cell_type": "markdown",
   "metadata": {},
   "source": [
    "전체 Train Set에 대한 비용 함수는 모든 데이터에 대한 비용의 평균이며, 이것을 **로그 손실**(log loss)라고 한다. \n",
    "\n",
    "$$\n",
    "J(\\mathbf{W}) = - \\frac{1}{m} \\sum_{i=1}^{m}{\\left[ y_{i} \\log{\\left( \\hat{p}_i \\right)} + \\left( 1 - y_i \\right) \\log{\\left( 1 - \\hat{p}_i \\right)} \\right]}\n",
    "$$"
   ]
  },
  {
   "cell_type": "markdown",
   "metadata": {},
   "source": [
    "로그 손실을 $\\mathbf{W}$로 미분하면 다음과 같다.\n",
    "\n",
    "$$\n",
    "\\frac{\\partial}{\\partial w_j} = \\frac{1}{m} \\sum_{i=1}^{m}{\\left( \\sigma \\left( \\mathbf{W}^{T} \\cdot \\mathbf{x}_i \\right) - \\mathbf{y}_i \\right)} x_{ij}\n",
    "$$"
   ]
  },
  {
   "cell_type": "markdown",
   "metadata": {},
   "source": []
  },
  {
   "cell_type": "markdown",
   "metadata": {},
   "source": [
    "### 4.6.3 결정 경계\n",
    "\n",
    "로지스틱 회귀를 iris(붓꽃) 데이터 셋을 이용해 알아보자.\n",
    "\n",
    "- sepal length: 꽃받침 길이\n",
    "- sepal width: 꽃받침 너비\n",
    "- petal length: 꽃잎 길이\n",
    "- petal width: 꽃잎 너비\n",
    "\n",
    "![](./images/iris.png)"
   ]
  },
  {
   "cell_type": "markdown",
   "metadata": {},
   "source": [
    "#### Petal width(꽃잎 너비)를 이용한 Verginca 종 분류기 구현\n",
    "\n",
    "\n",
    "꽃잎의 너비를 기반으로 Iris-Versicolor종을 감지하는 Classifier를 만들어 보면 다음과 같다."
   ]
  },
  {
   "cell_type": "code",
   "execution_count": 42,
   "metadata": {},
   "outputs": [
    {
     "data": {
      "text/plain": [
       "['data',\n",
       " 'target',\n",
       " 'frame',\n",
       " 'target_names',\n",
       " 'DESCR',\n",
       " 'feature_names',\n",
       " 'filename']"
      ]
     },
     "execution_count": 42,
     "metadata": {},
     "output_type": "execute_result"
    }
   ],
   "source": [
    "from sklearn import datasets\n",
    "iris = datasets.load_iris()\n",
    "list(iris.keys())"
   ]
  },
  {
   "cell_type": "code",
   "execution_count": 43,
   "metadata": {},
   "outputs": [
    {
     "name": "stdout",
     "output_type": "stream",
     "text": [
      ".. _iris_dataset:\n",
      "\n",
      "Iris plants dataset\n",
      "--------------------\n",
      "\n",
      "**Data Set Characteristics:**\n",
      "\n",
      "    :Number of Instances: 150 (50 in each of three classes)\n",
      "    :Number of Attributes: 4 numeric, predictive attributes and the class\n",
      "    :Attribute Information:\n",
      "        - sepal length in cm\n",
      "        - sepal width in cm\n",
      "        - petal length in cm\n",
      "        - petal width in cm\n",
      "        - class:\n",
      "                - Iris-Setosa\n",
      "                - Iris-Versicolour\n",
      "                - Iris-Virginica\n",
      "                \n",
      "    :Summary Statistics:\n",
      "\n",
      "    ============== ==== ==== ======= ===== ====================\n",
      "                    Min  Max   Mean    SD   Class Correlation\n",
      "    ============== ==== ==== ======= ===== ====================\n",
      "    sepal length:   4.3  7.9   5.84   0.83    0.7826\n",
      "    sepal width:    2.0  4.4   3.05   0.43   -0.4194\n",
      "    petal length:   1.0  6.9   3.76   1.76    0.9490  (high!)\n",
      "    petal width:    0.1  2.5   1.20   0.76    0.9565  (high!)\n",
      "    ============== ==== ==== ======= ===== ====================\n",
      "\n",
      "    :Missing Attribute Values: None\n",
      "    :Class Distribution: 33.3% for each of 3 classes.\n",
      "    :Creator: R.A. Fisher\n",
      "    :Donor: Michael Marshall (MARSHALL%PLU@io.arc.nasa.gov)\n",
      "    :Date: July, 1988\n",
      "\n",
      "The famous Iris database, first used by Sir R.A. Fisher. The dataset is taken\n",
      "from Fisher's paper. Note that it's the same as in R, but not as in the UCI\n",
      "Machine Learning Repository, which has two wrong data points.\n",
      "\n",
      "This is perhaps the best known database to be found in the\n",
      "pattern recognition literature.  Fisher's paper is a classic in the field and\n",
      "is referenced frequently to this day.  (See Duda & Hart, for example.)  The\n",
      "data set contains 3 classes of 50 instances each, where each class refers to a\n",
      "type of iris plant.  One class is linearly separable from the other 2; the\n",
      "latter are NOT linearly separable from each other.\n",
      "\n",
      ".. topic:: References\n",
      "\n",
      "   - Fisher, R.A. \"The use of multiple measurements in taxonomic problems\"\n",
      "     Annual Eugenics, 7, Part II, 179-188 (1936); also in \"Contributions to\n",
      "     Mathematical Statistics\" (John Wiley, NY, 1950).\n",
      "   - Duda, R.O., & Hart, P.E. (1973) Pattern Classification and Scene Analysis.\n",
      "     (Q327.D83) John Wiley & Sons.  ISBN 0-471-22361-1.  See page 218.\n",
      "   - Dasarathy, B.V. (1980) \"Nosing Around the Neighborhood: A New System\n",
      "     Structure and Classification Rule for Recognition in Partially Exposed\n",
      "     Environments\".  IEEE Transactions on Pattern Analysis and Machine\n",
      "     Intelligence, Vol. PAMI-2, No. 1, 67-71.\n",
      "   - Gates, G.W. (1972) \"The Reduced Nearest Neighbor Rule\".  IEEE Transactions\n",
      "     on Information Theory, May 1972, 431-433.\n",
      "   - See also: 1988 MLC Proceedings, 54-64.  Cheeseman et al\"s AUTOCLASS II\n",
      "     conceptual clustering system finds 3 classes in the data.\n",
      "   - Many, many more ...\n"
     ]
    }
   ],
   "source": [
    "print(iris.DESCR)"
   ]
  },
  {
   "cell_type": "code",
   "execution_count": 44,
   "metadata": {},
   "outputs": [],
   "source": [
    "X = iris['data'][: , 3: ] # 꽃입의 너비\n",
    "y = (iris['target'] == 2).astype(np.int) # Verginca면 1 아니면 0"
   ]
  },
  {
   "cell_type": "code",
   "execution_count": 45,
   "metadata": {},
   "outputs": [
    {
     "data": {
      "text/plain": [
       "LogisticRegression()"
      ]
     },
     "execution_count": 45,
     "metadata": {},
     "output_type": "execute_result"
    }
   ],
   "source": [
    "from sklearn.linear_model import LogisticRegression\n",
    "\n",
    "log_reg = LogisticRegression()\n",
    "log_reg.fit(X,y)"
   ]
  },
  {
   "cell_type": "markdown",
   "metadata": {},
   "source": [
    "꽃잎의 너비가 0~3cm인 꽃에 대해 모델의 추정 확률을 계산 하면 다음과 같다."
   ]
  },
  {
   "cell_type": "code",
   "execution_count": 46,
   "metadata": {},
   "outputs": [
    {
     "data": {
      "image/png": "[encoded data removed]",
      "text/plain": [
       "<Figure size 576x216 with 1 Axes>"
      ]
     },
     "metadata": {
      "needs_background": "light"
     },
     "output_type": "display_data"
    }
   ],
   "source": [
    "X_new = np.linspace(0, 3, 1000).reshape(-1, 1)\n",
    "y_proba = log_reg.predict_proba(X_new)\n",
    "decision_boundary = X_new[y_proba[:, 1] >= 0.5][0]\n",
    "1\n",
    "plt.figure(figsize=(8, 3))\n",
    "plt.plot(X[y==0], y[y==0], \"bs\")\n",
    "plt.plot(X[y==1], y[y==1], \"g^\")\n",
    "plt.plot([decision_boundary, decision_boundary], [-1, 2], \"k:\", linewidth=2)\n",
    "plt.plot(X_new, y_proba[:, 1], \"g-\", linewidth=2, label=\"Iris virginica\")\n",
    "plt.plot(X_new, y_proba[:, 0], \"b--\", linewidth=2, label=\"Not Iris virginica\")\n",
    "plt.text(decision_boundary+0.02, 0.15, \"결정 간격\\n(Decision  boundary)\", fontsize=12, color=\"k\", ha=\"center\")\n",
    "plt.arrow(decision_boundary, 0.08, -0.3, 0, head_width=0.05, head_length=0.1, fc='b', ec='b')\n",
    "plt.arrow(decision_boundary, 0.92, 0.3, 0, head_width=0.05, head_length=0.1, fc='g', ec='g')\n",
    "plt.xlabel(\"꽃입 너미 (cm)\", fontsize=14)\n",
    "plt.ylabel(\"확률\", fontsize=14)\n",
    "plt.legend(loc=\"center left\", fontsize=14)\n",
    "plt.axis([0, 3, -0.02, 1.02])\n",
    "plt.show()"
   ]
  },
  {
   "cell_type": "code",
   "execution_count": 47,
   "metadata": {},
   "outputs": [
    {
     "data": {
      "text/plain": [
       "array([1.66066066])"
      ]
     },
     "execution_count": 47,
     "metadata": {},
     "output_type": "execute_result"
    }
   ],
   "source": [
    "decision_boundary"
   ]
  },
  {
   "cell_type": "code",
   "execution_count": 48,
   "metadata": {},
   "outputs": [
    {
     "data": {
      "text/plain": [
       "array([1, 0])"
      ]
     },
     "execution_count": 48,
     "metadata": {},
     "output_type": "execute_result"
    }
   ],
   "source": [
    "log_reg.predict([[1.7], [1.5]])"
   ]
  },
  {
   "cell_type": "markdown",
   "metadata": {},
   "source": [
    "#### Petal width, Petal length를 이용한 Verginca 분류기 구현"
   ]
  },
  {
   "cell_type": "code",
   "execution_count": 49,
   "metadata": {},
   "outputs": [
    {
     "data": {
      "image/png": "[encoded data removed]",
      "text/plain": [
       "<Figure size 720x288 with 1 Axes>"
      ]
     },
     "metadata": {
      "needs_background": "light"
     },
     "output_type": "display_data"
    }
   ],
   "source": [
    "from sklearn.linear_model import LogisticRegression\n",
    "\n",
    "X = iris[\"data\"][:, (2, 3)]  # petal length, petal width\n",
    "y = (iris[\"target\"] == 2).astype(np.int)\n",
    "\n",
    "log_reg = LogisticRegression(solver=\"lbfgs\", C=10**10, random_state=42)\n",
    "log_reg.fit(X, y)\n",
    "\n",
    "x0, x1 = np.meshgrid(\n",
    "        np.linspace(2.9, 7, 500).reshape(-1, 1),\n",
    "        np.linspace(0.8, 2.7, 200).reshape(-1, 1),\n",
    "    )\n",
    "X_new = np.c_[x0.ravel(), x1.ravel()]\n",
    "\n",
    "y_proba = log_reg.predict_proba(X_new)\n",
    "\n",
    "plt.figure(figsize=(10, 4))\n",
    "plt.plot(X[y==0, 0], X[y==0, 1], \"bs\")\n",
    "plt.plot(X[y==1, 0], X[y==1, 1], \"g^\")\n",
    "\n",
    "zz = y_proba[:, 1].reshape(x0.shape)\n",
    "contour = plt.contour(x0, x1, zz, cmap=plt.cm.brg) #등치선\n",
    "\n",
    "\n",
    "left_right = np.array([2.9, 7])\n",
    "boundary = -(log_reg.coef_[0][0] * left_right + log_reg.intercept_[0]) / log_reg.coef_[0][1]\n",
    "\n",
    "plt.clabel(contour, inline=1, fontsize=12)\n",
    "plt.plot(left_right, boundary, \"k--\", linewidth=3)\n",
    "plt.text(3.5, 1.5, \"Iris virginica 아님\", fontsize=14, color=\"b\", ha=\"center\")\n",
    "plt.text(6.5, 2.3, \"Iris virginica\", fontsize=14, color=\"g\", ha=\"center\")\n",
    "plt.xlabel(\"꽃입 길이\", fontsize=14)\n",
    "plt.ylabel(\"꽃입 너비\", fontsize=14)\n",
    "plt.axis([2.9, 7, 0.8, 2.7])\n",
    "plt.show()"
   ]
  },
  {
   "cell_type": "markdown",
   "metadata": {},
   "source": [
    "다른 선형 모델 처럼 로지스틱 회귀도 $l_1, l_2$ 페널티를 적용하여 규제 할 수 있다. 사이킷런의 기본값은 $l_2$ 페널티를 기본으로 한다."
   ]
  },
  {
   "cell_type": "markdown",
   "metadata": {},
   "source": []
  },
  {
   "cell_type": "markdown",
   "metadata": {},
   "source": [
    "### 4.6.4 소프트맥스 회귀 (Softmax Regression)\n",
    "\n",
    "로지스틱 회귀 모델은 여러개의 이진 분류기를 만들지 않고, 다중 클래스(multinomial class) 분류에 적용할 수 있다. 이것을 **소프트맥스 회귀**(Softmax Regression) 또는 **다항 로지스틱 회귀**(Multinomial Logistic Regression)이라고 한다.\n",
    "\n",
    "소프트맥스 회귀의 개념은 데이터 $x$에 대해 소프트맥스 회귀 모델이 각 클래스 $k$에 대한 점수(score) $S_k \\left( x \\right)$를 계산하고, 그 점수값에 **소프트맥스 함수**<sub>softmax function</sub>(또는 **정규화된 지수함수**<sub>normalized exponential function</sub>)를 적용하여 각 클래스의 확률을 예측하는 모델이다. \n",
    "\n",
    "$$\n",
    "S_k \\left( \\mathbf{x} \\right) = \\left( \\mathbf{W}_{k} \\right)^{T} \\cdot \\mathbf{x}\n",
    "$$\n",
    "\n",
    "- $\\mathbf{W}_{k}$ : 각 클래스별 가중치 파라미터 벡터"
   ]
  },
  {
   "cell_type": "markdown",
   "metadata": {},
   "source": [
    "위의 식을 이용해 소프트 맥스 함수를 적용한 식은 다음과 같다.\n",
    "\n",
    "$$\n",
    "\\hat{p}_k = \\sigma \\left( s(\\mathbf{x}) \\right)_k = \\frac{ \\text{exp} \\left( S_k(\\mathbf{x}) \\right)}{\\sum_{j=1}^{K}{\\text{exp} \\left( S_j (\\mathbf{x}) \\right)}}\n",
    "$$\n",
    "\n",
    "- $K$ : 클래스의 수\n",
    "- $s(\\mathbf{x})$ : 데이터 샘플 $\\mathbf{x}$에 대한 각 클래스의 점수를 담고 있는 벡터\n",
    "- $\\sigma \\left( S(\\mathbf{x}) \\right)_k$ : 샘플 $\\mathbf{x}$에 대한 클래스 $k$에 속할 추정 확률 벡터"
   ]
  },
  {
   "cell_type": "markdown",
   "metadata": {},
   "source": [
    "샘플 x에 대해 각 클래스의 점수가 계산되면 소프트맥스 함수를 통과시켜 클래스 $k$에 속할 확률 $\\hat{p}_k$을 추정 할 수 있다. 이 함수는 각 점수에 지수 함수를 적용한 후 정규환 한 결과 이다.  \n",
    "\n",
    ">소프트맥스(정규화 작업)을 통해 확률로 계산이 가능하다. 즉, 타겟 클래스일 확률 몇% 인지 확률화가 가능해진다."
   ]
  },
  {
   "cell_type": "markdown",
   "metadata": {},
   "source": [
    "로지스틱 회귀 Classifer와 마찬가지로 소프트맥스 회귀 분류기도 위의 식에서 추정된 확률 벡터 중 확률이 가장 높은 클래스로 분류가 된다. 이를 식으로 나타내면 다음과 같다.\n",
    "\n",
    "$$\n",
    "\\hat{y} = \\underset{k}{\\text{arg}} \\max{\\sigma \\left( S(\\mathbf{x}) \\right)_k} = \\underset{k}{\\text{arg}} \\max{S_k(\\mathbf{x})} = \\underset{k}{\\text{arg}} \\max{\\left( \\mathbf{W_k}^{T} \\cdot \\mathbf{x}\\right) } \n",
    "$$"
   ]
  },
  {
   "cell_type": "markdown",
   "metadata": {},
   "source": []
  },
  {
   "cell_type": "markdown",
   "metadata": {},
   "source": [
    "#### Sigmoid vs. Softmax\n",
    "주요 차이점은 Sigmoid는 0과1이 출력이 되고, Softmax는 확률값 즉, 연속된(continous)값이 출력됨\n",
    "\n",
    "|  | sigmoid | softmax |\n",
    "|-|:-:|:-:|\n",
    "| **구분** | binary data  | multinomial classification |\n",
    "| **사용용도** | 주로 중간 층의 활성화 함수 | 주로 출력함수 |\n",
    "| **출력 값 범위** | 0~1 사이의 확률값  | 0~1 사이의 확률값 (단, 결과 총합이 1이 된다) |\n",
    "| **출력 값 의미** | ex. 0.5이상이면 양성, 이하면 음성의 의미 | 하나의 값에 대해 여러개(2개이상)클래스에 분류될 확률이 각 각 출력 |"
   ]
  },
  {
   "cell_type": "markdown",
   "metadata": {},
   "source": [
    " "
   ]
  },
  {
   "cell_type": "markdown",
   "metadata": {},
   "source": [
    "#### \n",
    "Entropy\n",
    "> 엔트로피는 `불확실성의 척도`입니다. 정보이론에서의 엔트로피는 `불확실성`을 나타내며, 엔트로피가 높다는 것은 정보가 많고, 확률이 낮다는 것을 의미한다.\n",
    "$$\n",
    "H(x) = - \\sum_{i=1}^n p(x_i)* log p(x_i)\n",
    "$$   \n",
    "불확실성이라는 것은 어떤 데이터가 나올지 예측하기 어려운 경우라고 받아들이는 것이 더 직관적이다.\n"
   ]
  },
  {
   "cell_type": "code",
   "execution_count": 50,
   "metadata": {},
   "outputs": [
    {
     "name": "stderr",
     "output_type": "stream",
     "text": [
      "<ipython-input-50-4a1cb2fbb6ed>:2: RuntimeWarning: divide by zero encountered in log10\n",
      "  log= - np.log10(p)\n"
     ]
    },
    {
     "data": {
      "image/png": "[encoded data removed]",
      "text/plain": [
       "<Figure size 648x216 with 1 Axes>"
      ]
     },
     "metadata": {
      "needs_background": "light"
     },
     "output_type": "display_data"
    }
   ],
   "source": [
    "p = np.linspace(0, 10, 100000)\n",
    "log= - np.log10(p)\n",
    "plt.figure(figsize=(9, 3))\n",
    "plt.plot(p, log, \"b-\", label=\"$logp(x_i)$\")\n",
    "plt.plot([0, 0], [-5, 5], \"k-\")\n",
    "plt.plot([-2,8], [0,0], \"k-\")\n",
    "plt.plot([-2,8], [-1,-1], \"k:\")\n",
    "plt.xlabel(\"$p(x_i)$\")\n",
    "plt.legend(loc=\"upper left\", fontsize=12)\n",
    "plt.axis([-2, 8, -3, 4])\n",
    "plt.show()"
   ]
  },
  {
   "cell_type": "markdown",
   "metadata": {},
   "source": [
    "위 엔트로피 식을 바꾸면 다음과 같다. \n",
    "$$\n",
    "H(x) =  \\sum_{i=1}^n p(x_i)* (-log p(x_i))\n",
    "$$\n",
    "$p(x_i)$는 각각의 요소들이 나올 수 있는 확률 값이다. 모든 요소들이 나올 확률이 동일 하다면, $-log(x_i) 갑도 모두 동일 하기 때문에 식을 동일 하게 만들 수 있다.   \n",
    "\n",
    "$p(x_i)$값의 총 합은 1이기 때문에, 수식은 $H(x) =  \\sum_{i=1}^n p(x_i)* (-log p(x_i)) = -log p(x_i)$이 된다. x 값이 작아질수록 $logx$의 값이 기하 급수적으로 커진다. x가 작아진 것 보다 $logx$가 커지는 폭이 훨씬 크기 때문에, 전체 엔트로피는 증가한다. \n",
    "\n"
   ]
  },
  {
   "cell_type": "markdown",
   "metadata": {},
   "source": [
    "#### Cross-Entropy\n",
    "크로스 엔트로피는 실제 분포 $q$에 대하여 알지 못하는 상태에서, 모델링을 통해 구한 분포인 $p$를 통하여 $q$를 예측 하는 것이다. **$q$와 $p$가 모두 들어가서 크로스 엔트로피**라고 한다.   \n",
    "\n",
    "머신 러닝에서 실제 환경의 값과 $q$를, 예측값(predict) p를 모두 알고 있는 경우가 있다. **머신러닝의 모델은 몇%의 확률로 예측했는데, 실제 확률은 몇%야!** 라는 사실을 알고 있을 때 사용한다.   \n",
    "\n",
    "크로스 엔트로피에서는 실제값과 예측값이 맞는 경우에는 0으로 수렴하고, 값이 틀릴경우에는 값이 커지기 때문에, `실제 값과 예측 값의 차이를 줄이기 위한 엔트로피`라고 보시면 될 것 같습니다."
   ]
  },
  {
   "cell_type": "markdown",
   "metadata": {},
   "source": [
    " "
   ]
  },
  {
   "cell_type": "markdown",
   "metadata": {},
   "source": [
    "소프트맥스 회귀의 학습을 위한 손실함수(loss function)은 **크로스 엔트로피**(cross entropy)이며 다음과 같다.  \n",
    "\n",
    "모델이 타깃 클래스에 대해서는 높은 확률로, 다른 클래스(타킷이 아닌)에 대해서는 낮은 확률 추정을 목적으로 함.  \n",
    "**크로스 엔트로피** 손실함수를 **최소화**하는 것은 <u>타깃 클래스에 대해 낮은 확률을 예측하는 모델을 엊게하는것</u>이므로 이 목적에 부합한다.    \n",
    "\n",
    "\n",
    "타겟 클래스에 대한 낮은 확률 = 타킷클랙스에 대한 불확실성 = 타깃 클래스에 대한 엔트로피 $\\rightarrow$ 이것을 최소화 한다\n",
    "\n",
    "$$\n",
    "J(\\mathbf{W}) = - \\frac{1}{m} \\sum_{i=1}^{m}{\\sum_{k=1}^{K}{y_k^{(i)} \\log{\\left( \\hat{p}_k^{(i)} \\right)}}}\n",
    "$$\n",
    "\n",
    "- $i$번째 샘플에 대한 타겟 클래스가 $k$일 때, $y_k^{(i)}$가 1이고, 나머지는 0이 된다."
   ]
  },
  {
   "cell_type": "markdown",
   "metadata": {},
   "source": [
    "위의 손실함수에 대한 그래디언트 벡터는 다음과 같다.\n",
    "\n",
    "$$\n",
    "\\nabla_{w^{(k)}} J(\\mathbf{W}) = \\frac{1}{m} \\sum_{i=1}^{m}{\\left( \\hat{p}_k^{(i)} - y_k^{(i)} \\right)\\mathbf{x}^{(i)}}\n",
    "$$"
   ]
  },
  {
   "cell_type": "markdown",
   "metadata": {},
   "source": [
    "#### Scikit-Learn `LogisticRegression`을 이용해 Softmax Regression 사용하기\n",
    "\n",
    "Scikit-Learn에서 [`LogisticRegression`](http://scikit-learn.org/stable/modules/generated/sklearn.linear_model.LogisticRegression.html)은 셋 이상의 다중 클래스 분류에서는 기본적으로 일대다(OvA)를 디폴트 값으로 사용하지만, `multi_class`인자를 `multinomial`로 설정하면 Softmax Regression을 사용할 수 있다. 또한 `solver` 인자에 `lbfgs`로 지정해야한다."
   ]
  },
  {
   "cell_type": "code",
   "execution_count": 51,
   "metadata": {},
   "outputs": [
    {
     "data": {
      "text/plain": [
       "LogisticRegression(C=10, multi_class='multinomial', random_state=42)"
      ]
     },
     "execution_count": 51,
     "metadata": {},
     "output_type": "execute_result"
    }
   ],
   "source": [
    "\n",
    "X = iris['data'][:, (2,3)] #꽃잎 길이, 꽃잎 너비\n",
    "y = iris['target']\n",
    "\n",
    "softmax_reg = LogisticRegression(multi_class=\"multinomial\",solver=\"lbfgs\", C=10, random_state=42)\n",
    "softmax_reg.fit(X,y)"
   ]
  },
  {
   "cell_type": "code",
   "execution_count": 52,
   "metadata": {},
   "outputs": [
    {
     "data": {
      "text/plain": [
       "array([2])"
      ]
     },
     "execution_count": 52,
     "metadata": {},
     "output_type": "execute_result"
    }
   ],
   "source": [
    "softmax_reg.predict([[5,2]]) # 꽃잎의 길이가 5cm, 너비가 2cm인 붓꽃을 발견했다고 가정"
   ]
  },
  {
   "cell_type": "code",
   "execution_count": 53,
   "metadata": {},
   "outputs": [
    {
     "data": {
      "text/plain": [
       "array([[6.38014896e-07, 5.74929995e-02, 9.42506362e-01]])"
      ]
     },
     "execution_count": 53,
     "metadata": {},
     "output_type": "execute_result"
    }
   ],
   "source": [
    "softmax_reg.predict_proba([[5,2]])"
   ]
  },
  {
   "cell_type": "code",
   "execution_count": 54,
   "metadata": {},
   "outputs": [
    {
     "data": {
      "text/plain": [
       "'virginica'"
      ]
     },
     "execution_count": 54,
     "metadata": {},
     "output_type": "execute_result"
    }
   ],
   "source": [
    "iris['target_names'][2]"
   ]
  },
  {
   "cell_type": "code",
   "execution_count": 55,
   "metadata": {},
   "outputs": [
    {
     "data": {
      "image/png": "[encoded data removed]",
      "text/plain": [
       "<Figure size 720x288 with 1 Axes>"
      ]
     },
     "metadata": {
      "needs_background": "light"
     },
     "output_type": "display_data"
    }
   ],
   "source": [
    "x0, x1 = np.meshgrid(\n",
    "        np.linspace(0, 8, 500).reshape(-1, 1),\n",
    "        np.linspace(0, 3.5, 200).reshape(-1, 1),\n",
    "    )\n",
    "X_new = np.c_[x0.ravel(), x1.ravel()]\n",
    "\n",
    "\n",
    "y_proba = softmax_reg.predict_proba(X_new)\n",
    "y_predict = softmax_reg.predict(X_new)\n",
    "\n",
    "zz1 = y_proba[:, 1].reshape(x0.shape)\n",
    "zz = y_predict.reshape(x0.shape)\n",
    "\n",
    "plt.figure(figsize=(10, 4))\n",
    "plt.plot(X[y==2, 0], X[y==2, 1], \"g^\", label=\"Iris virginica\")\n",
    "plt.plot(X[y==1, 0], X[y==1, 1], \"bs\", label=\"Iris versicolor\")\n",
    "plt.plot(X[y==0, 0], X[y==0, 1], \"yo\", label=\"Iris setosa\")\n",
    "\n",
    "from matplotlib.colors import ListedColormap\n",
    "custom_cmap = ListedColormap(['#fafab0','#9898ff','#a0faa0'])\n",
    "\n",
    "plt.contourf(x0, x1, zz, cmap=custom_cmap)\n",
    "contour = plt.contour(x0, x1, zz1, cmap=plt.cm.brg)\n",
    "plt.clabel(contour, inline=1, fontsize=12)\n",
    "plt.xlabel(\"Petal length\", fontsize=14)\n",
    "plt.ylabel(\"Petal width\", fontsize=14)\n",
    "plt.legend(loc=\"center left\", fontsize=14)\n",
    "plt.axis([0, 7, 0, 3.5])\n",
    "plt.show()"
   ]
  }
 ],
 "metadata": {
  "kernelspec": {
   "display_name": "nlp_env",
   "language": "python",
   "name": "nlev"
  },
  "language_info": {
   "codemirror_mode": {
    "name": "ipython",
    "version": 3
   },
   "file_extension": ".py",
   "mimetype": "text/x-python",
   "name": "python",
   "nbconvert_exporter": "python",
   "pygments_lexer": "ipython3",
   "version": "3.8.6"
  }
 },
 "nbformat": 4,
 "nbformat_minor": 4
}
